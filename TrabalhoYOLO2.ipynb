{
  "nbformat": 4,
  "nbformat_minor": 0,
  "metadata": {
    "colab": {
      "provenance": []
    },
    "kernelspec": {
      "name": "python3",
      "display_name": "Python 3"
    },
    "language_info": {
      "name": "python"
    }
  },
  "cells": [
    {
      "cell_type": "code",
      "execution_count": null,
      "metadata": {
        "id": "w7mb_R1_zGZr"
      },
      "outputs": [],
      "source": [
        "from google.colab import files\n",
        "uploaded = files.upload()\n",
        "\n",
        "# 2. Extrair o dataset\n",
        "import zipfile\n",
        "import os\n",
        "\n",
        "with zipfile.ZipFile(\"frutas.zip\", 'r') as zip_ref:\n",
        "    zip_ref.extractall(\"frutas_dataset\")\n",
        "\n",
        "# 3. Verificar o caminho do data.yaml\n",
        "print(os.listdir(\"frutas_dataset\"))\n",
        "print(os.listdir(\"frutas_dataset/train/images\"))\n",
        "\n",
        "# 4. Treinamento com YOLO\n",
        "from ultralytics import YOLO\n",
        "\n",
        "model = YOLO(\"yolov8n.pt\")\n",
        "\n",
        "model.train(\n",
        "    data=\"frutas_dataset/data.yaml\",\n",
        "    epochs=20,\n",
        "    imgsz=640,\n",
        "    batch=8,\n",
        "    name=\"yolo_frutas\",\n",
        "    project=\"runs/detect\"\n",
        ")\n",
        "\n"
      ]
    },
    {
      "cell_type": "code",
      "source": [
        "from ultralytics import YOLO\n",
        "\n",
        "# Carrega o modelo treinado\n",
        "model = YOLO(\"runs/detect/yolo_frutas/weights/last.pt\")\n",
        "\n",
        "# Avalia o modelo\n",
        "metrics = model.val()\n",
        "\n",
        "# Acessa os resultados médios diretamente da instância .box\n",
        "mp, mr, map50, map95 = metrics.box.mean_results()\n",
        "\n",
        "print(f\"🎯 Precisão média (mp):   {mp:.4f}\")\n",
        "print(f\"🔁 Recall médio (mr):     {mr:.4f}\")\n",
        "print(f\"📊 mAP@0.5 (map50):       {map50:.4f}\")\n",
        "print(f\"📊 mAP@0.5:0.95 (map95):  {map95:.4f}\")\n",
        "\n",
        "\n"
      ],
      "metadata": {
        "colab": {
          "base_uri": "https://localhost:8080/"
        },
        "collapsed": true,
        "id": "9-i-zIEytoB4",
        "outputId": "e7a9a346-1b46-413e-ef8e-cd2d16249b1d"
      },
      "execution_count": 13,
      "outputs": [
        {
          "output_type": "stream",
          "name": "stdout",
          "text": [
            "Ultralytics 8.3.162 🚀 Python-3.11.13 torch-2.6.0+cu124 CPU (Intel Xeon 2.20GHz)\n",
            "Model summary (fused): 72 layers, 3,006,428 parameters, 0 gradients, 8.1 GFLOPs\n",
            "\u001b[34m\u001b[1mval: \u001b[0mFast image access ✅ (ping: 0.0±0.0 ms, read: 415.7±133.5 MB/s, size: 32.9 KB)\n"
          ]
        },
        {
          "output_type": "stream",
          "name": "stderr",
          "text": [
            "\u001b[34m\u001b[1mval: \u001b[0mScanning /content/frutas_dataset/valid/labels.cache... 48 images, 0 backgrounds, 0 corrupt: 100%|██████████| 48/48 [00:00<?, ?it/s]\n",
            "                 Class     Images  Instances      Box(P          R      mAP50  mAP50-95): 100%|██████████| 3/3 [00:18<00:00,  6.01s/it]\n"
          ]
        },
        {
          "output_type": "stream",
          "name": "stdout",
          "text": [
            "                   all         48         90      0.679      0.586      0.654      0.445\n",
            "                 apple         12         22      0.932      0.636      0.779      0.563\n",
            "                banana          9         19      0.434      0.444      0.447      0.235\n",
            "                orange          9         19      0.775      0.632       0.72       0.55\n",
            "            watermelon         18         30      0.577      0.633      0.671      0.435\n",
            "Speed: 3.5ms preprocess, 347.8ms inference, 0.0ms loss, 8.9ms postprocess per image\n",
            "Results saved to \u001b[1mruns/detect/val4\u001b[0m\n",
            "🎯 Precisão média (mp):   0.6793\n",
            "🔁 Recall médio (mr):     0.5863\n",
            "📊 mAP@0.5 (map50):       0.6540\n",
            "📊 mAP@0.5:0.95 (map95):  0.4455\n"
          ]
        }
      ]
    },
    {
      "cell_type": "code",
      "source": [
        "import shutil\n",
        "\n",
        "# Compactar a pasta de resultados\n",
        "shutil.make_archive(\"yolo_resultados\", \"zip\", \"runs/detect/yolo_frutas\")\n",
        "\n",
        "from google.colab import files\n",
        "\n",
        "# Baixar o arquivo zipado\n",
        "files.download(\"yolo_resultados.zip\")\n"
      ],
      "metadata": {
        "id": "cKCAPBZ8uzXd"
      },
      "execution_count": null,
      "outputs": []
    },
    {
      "cell_type": "code",
      "source": [
        "# upload dos videos\n",
        "from google.colab import files\n",
        "uploaded = files.upload()\n",
        "\n",
        "from ultralytics import YOLO\n",
        "\n",
        "# Carrega o modelo\n",
        "model = YOLO(\"runs/detect/yolo_frutas/weights/best.pt\")\n",
        "\n",
        "# Executa a predição em vídeo\n",
        "model.predict(\n",
        "    source=\"frutas_video2.mp4\",  #trocar o nome de acordo com o video\n",
        "    conf=0.25,\n",
        "    save=True,\n",
        "    save_txt=False,\n",
        "    imgsz=640,\n",
        "    show=False\n",
        ")\n"
      ],
      "metadata": {
        "collapsed": true,
        "id": "WSnXEnbM-u0y"
      },
      "execution_count": null,
      "outputs": []
    },
    {
      "cell_type": "code",
      "source": [
        "#baixar os videos\n",
        "from google.colab import files\n",
        "files.download(\"/content/frutas_video2.mp4\") #trocar o caminho\n",
        "model.predict(\n",
        "    source=\"frutas_video.mp4\", #trocar o nome pra costumizar\n",
        "    name=\"resultado_frutas_video\", #trocar o nome pra costumizar\n",
        "    save=True\n",
        ")\n",
        "\n"
      ],
      "metadata": {
        "collapsed": true,
        "id": "mv-E8WJY_SiR"
      },
      "execution_count": null,
      "outputs": []
    }
  ]
}